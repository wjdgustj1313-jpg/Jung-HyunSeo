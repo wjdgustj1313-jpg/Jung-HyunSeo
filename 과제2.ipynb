{
  "nbformat": 4,
  "nbformat_minor": 0,
  "metadata": {
    "colab": {
      "provenance": [],
      "authorship_tag": "ABX9TyNb0obTMqo8/tgWDrULFZms",
      "include_colab_link": true
    },
    "kernelspec": {
      "name": "python3",
      "display_name": "Python 3"
    },
    "language_info": {
      "name": "python"
    }
  },
  "cells": [
    {
      "cell_type": "markdown",
      "metadata": {
        "id": "view-in-github",
        "colab_type": "text"
      },
      "source": [
        "<a href=\"https://colab.research.google.com/github/wjdgustj1313-jpg/Jung-HyunSeo/blob/main/%EA%B3%BC%EC%A0%9C2.ipynb\" target=\"_parent\"><img src=\"https://colab.research.google.com/assets/colab-badge.svg\" alt=\"Open In Colab\"/></a>"
      ]
    },
    {
      "cell_type": "code",
      "execution_count": 8,
      "metadata": {
        "colab": {
          "base_uri": "https://localhost:8080/"
        },
        "id": "tdwDKnJDZAfa",
        "outputId": "d0d692e6-1632-4e5c-ba64-8505ebee2257"
      },
      "outputs": [
        {
          "output_type": "stream",
          "name": "stdout",
          "text": [
            "a: []\n",
            "rev_a: [6, 5, 4, 3, 2]\n"
          ]
        }
      ],
      "source": [
        "a = [2,3,4,5,6]\n",
        "rev_a = []\n",
        "for _ in range (len(a)):\n",
        "  rev_a.append(a.pop())\n",
        "print(\"a:\",a)\n",
        "print(\"rev_a:\",rev_a)"
      ]
    },
    {
      "cell_type": "code",
      "source": [],
      "metadata": {
        "id": "IWBbaPhRb5zg"
      },
      "execution_count": null,
      "outputs": []
    }
  ]
}